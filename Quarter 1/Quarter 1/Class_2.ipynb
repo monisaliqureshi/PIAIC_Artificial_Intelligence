{
 "cells": [
  {
   "cell_type": "markdown",
   "metadata": {},
   "source": [
    "<h1 align='center'>PIAIC Class-02</h1>\n",
    "<br><br><br>\n",
    "<h3 align='center'>Inroduction to Python</h3>\n",
    "<br><br><br>\n",
    "<h4>Date: 24-11-2019</h4>\n",
    "<h4>Class Time : 12:15 PM </h4>"
   ]
  },
  {
   "cell_type": "markdown",
   "metadata": {},
   "source": [
    "#### The Zen of Python, by Tim Peters"
   ]
  },
  {
   "cell_type": "code",
   "execution_count": 1,
   "metadata": {},
   "outputs": [
    {
     "name": "stdout",
     "output_type": "stream",
     "text": [
      "The Zen of Python, by Tim Peters\n",
      "\n",
      "Beautiful is better than ugly.\n",
      "Explicit is better than implicit.\n",
      "Simple is better than complex.\n",
      "Complex is better than complicated.\n",
      "Flat is better than nested.\n",
      "Sparse is better than dense.\n",
      "Readability counts.\n",
      "Special cases aren't special enough to break the rules.\n",
      "Although practicality beats purity.\n",
      "Errors should never pass silently.\n",
      "Unless explicitly silenced.\n",
      "In the face of ambiguity, refuse the temptation to guess.\n",
      "There should be one-- and preferably only one --obvious way to do it.\n",
      "Although that way may not be obvious at first unless you're Dutch.\n",
      "Now is better than never.\n",
      "Although never is often better than *right* now.\n",
      "If the implementation is hard to explain, it's a bad idea.\n",
      "If the implementation is easy to explain, it may be a good idea.\n",
      "Namespaces are one honking great idea -- let's do more of those!\n"
     ]
    }
   ],
   "source": [
    "import this"
   ]
  },
  {
   "cell_type": "markdown",
   "metadata": {},
   "source": [
    "<h3 align='center'><u>Data Types<u></h3>\n",
    "    <p>When we assign values to some veriable and want to use that value and its address<br>\n",
    "        then, we use deep value and shello value techniques....</p>\n",
    "    <h4> Deep Value and Shello value</h4>"
   ]
  },
  {
   "cell_type": "code",
   "execution_count": 5,
   "metadata": {},
   "outputs": [
    {
     "name": "stdout",
     "output_type": "stream",
     "text": [
      "8\n",
      "8\n",
      "1947709888\n",
      "1947709888\n"
     ]
    }
   ],
   "source": [
    "a=8\n",
    "b=8\n",
    "print(a)\n",
    "print(b)\n",
    "\n",
    "print(id(a))\n",
    "print(id(b))\n"
   ]
  },
  {
   "cell_type": "markdown",
   "metadata": {},
   "source": [
    "<p>We can access data directly by using its value and address with veriable name and <i> id()</i> built-in function respectively. <br> Python provide the facility of <b>Memory Management</b> by placing same value that is assigned to different veriables at a single memory address whenever it is not changed.. <br> Above example shows that veriables <i>a</i> and <i>b</i> have same vlaue that is <b>8</b> so this value is going to store at same memory address <b>(1947709888)</b> in storage instead of different memory location that cause excess use of memory which is avoided in <b><i>Python</i></b>.</p>"
   ]
  },
  {
   "cell_type": "markdown",
   "metadata": {},
   "source": [
    "<h4>Data Type</h4>\n",
    "<p> To check data type of any veriale python has built-in function <i>type(parameter) </i> </p>\n"
   ]
  },
  {
   "cell_type": "code",
   "execution_count": 12,
   "metadata": {},
   "outputs": [
    {
     "name": "stdout",
     "output_type": "stream",
     "text": [
      "<class 'int'>\n",
      "<class 'str'>\n",
      "11\n",
      "<class 'int'>\n",
      "16\n"
     ]
    }
   ],
   "source": [
    "a = 7\n",
    "print(type(a))\n",
    "a = '1'\n",
    "print(type(a))\n",
    "a = a + '1'    # Adding two values if both string then they concatinate\n",
    "print(a)\n",
    "# If we want to convert one veriable data type to another called type casting\n",
    "b = int(a) + 5\n",
    "print(type(b))\n",
    "print(b)"
   ]
  },
  {
   "cell_type": "code",
   "execution_count": null,
   "metadata": {},
   "outputs": [],
   "source": []
  },
  {
   "cell_type": "code",
   "execution_count": 14,
   "metadata": {},
   "outputs": [
    {
     "data": {
      "text/plain": [
       "['__add__',\n",
       " '__class__',\n",
       " '__contains__',\n",
       " '__delattr__',\n",
       " '__dir__',\n",
       " '__doc__',\n",
       " '__eq__',\n",
       " '__format__',\n",
       " '__ge__',\n",
       " '__getattribute__',\n",
       " '__getitem__',\n",
       " '__getnewargs__',\n",
       " '__gt__',\n",
       " '__hash__',\n",
       " '__init__',\n",
       " '__init_subclass__',\n",
       " '__iter__',\n",
       " '__le__',\n",
       " '__len__',\n",
       " '__lt__',\n",
       " '__mod__',\n",
       " '__mul__',\n",
       " '__ne__',\n",
       " '__new__',\n",
       " '__reduce__',\n",
       " '__reduce_ex__',\n",
       " '__repr__',\n",
       " '__rmod__',\n",
       " '__rmul__',\n",
       " '__setattr__',\n",
       " '__sizeof__',\n",
       " '__str__',\n",
       " '__subclasshook__',\n",
       " 'capitalize',\n",
       " 'casefold',\n",
       " 'center',\n",
       " 'count',\n",
       " 'encode',\n",
       " 'endswith',\n",
       " 'expandtabs',\n",
       " 'find',\n",
       " 'format',\n",
       " 'format_map',\n",
       " 'index',\n",
       " 'isalnum',\n",
       " 'isalpha',\n",
       " 'isdecimal',\n",
       " 'isdigit',\n",
       " 'isidentifier',\n",
       " 'islower',\n",
       " 'isnumeric',\n",
       " 'isprintable',\n",
       " 'isspace',\n",
       " 'istitle',\n",
       " 'isupper',\n",
       " 'join',\n",
       " 'ljust',\n",
       " 'lower',\n",
       " 'lstrip',\n",
       " 'maketrans',\n",
       " 'partition',\n",
       " 'replace',\n",
       " 'rfind',\n",
       " 'rindex',\n",
       " 'rjust',\n",
       " 'rpartition',\n",
       " 'rsplit',\n",
       " 'rstrip',\n",
       " 'split',\n",
       " 'splitlines',\n",
       " 'startswith',\n",
       " 'strip',\n",
       " 'swapcase',\n",
       " 'title',\n",
       " 'translate',\n",
       " 'upper',\n",
       " 'zfill']"
      ]
     },
     "execution_count": 14,
     "metadata": {},
     "output_type": "execute_result"
    }
   ],
   "source": [
    "a = \"Monis Ali\"\n",
    "dir(a)         # Want to know which fuction/methods and attributes can be applied to string a"
   ]
  },
  {
   "cell_type": "markdown",
   "metadata": {},
   "source": [
    "<b>Operation can be applied by two types</b><br> <b>In-Memory</b><br><b>In-line</b>"
   ]
  },
  {
   "cell_type": "code",
   "execution_count": 19,
   "metadata": {},
   "outputs": [
    {
     "name": "stdout",
     "output_type": "stream",
     "text": [
      "MONIS ALI\n",
      "MoNiS aLi\n",
      "MONIS ALI\n",
      "Monis ali\n"
     ]
    }
   ],
   "source": [
    "a = \"MoNiS aLi\"\n",
    "print(a.upper())        # In-line operation\n",
    "print(a)\n",
    "a = a.upper()          # In-memory\n",
    "print(b)\n",
    "\n",
    "print(a.capitalize())"
   ]
  },
  {
   "cell_type": "code",
   "execution_count": 27,
   "metadata": {},
   "outputs": [
    {
     "name": "stdout",
     "output_type": "stream",
     "text": [
      "24\n",
      "MoNiS aLI\n",
      "9\n",
      "We saved  15  Charecters Space/Memory \n"
     ]
    }
   ],
   "source": [
    "a = \"       MoNiS aLI        \"\n",
    "print(len(a))\n",
    "print(a.strip())\n",
    "b = len(a.strip())\n",
    "print(b)\n",
    "print('We saved ',len(a) - b,' Charecters Space/Memory ')"
   ]
  },
  {
   "cell_type": "code",
   "execution_count": 30,
   "metadata": {},
   "outputs": [
    {
     "name": "stdout",
     "output_type": "stream",
     "text": [
      "['MoNiS', 'aLI']\n"
     ]
    }
   ],
   "source": [
    "c = a.split()       # Divide string into list where data is available in strig (Ignore spaces)\n",
    "print(c)"
   ]
  },
  {
   "cell_type": "code",
   "execution_count": 34,
   "metadata": {},
   "outputs": [
    {
     "name": "stdout",
     "output_type": "stream",
     "text": [
      "MoNiS aLI\n"
     ]
    }
   ],
   "source": [
    "d = \" \".join(c)      # Join two or more list' elements\n",
    "print(d)"
   ]
  },
  {
   "cell_type": "code",
   "execution_count": 44,
   "metadata": {},
   "outputs": [
    {
     "name": "stdout",
     "output_type": "stream",
     "text": [
      "pakistan\n",
      "!yrtnuoc ruo evol ew inatsikap era eW\n"
     ]
    }
   ],
   "source": [
    "a = \"We are pakistani we love our country!\"\n",
    "#Slicing : Same as indexing but access more than one vlaues\n",
    "b = a[7:15:1]                  # veriable[start:end:step] --> end is not included..\n",
    "print(b)\n",
    "print(a[::-1])             # Right to left slicing"
   ]
  },
  {
   "cell_type": "code",
   "execution_count": 53,
   "metadata": {},
   "outputs": [
    {
     "name": "stdout",
     "output_type": "stream",
     "text": [
      "pakistani\n"
     ]
    }
   ],
   "source": [
    "# Search using index\n",
    "print(a[a.index(\"pakistani\"):16])"
   ]
  },
  {
   "cell_type": "markdown",
   "metadata": {},
   "source": [
    "<b>Result : </b> When we add two strings they get concatinated.... To perform any operation on veriable, operands should have same data type, otherwise <br><b>Type casting </b> should be perform first and then operation."
   ]
  },
  {
   "cell_type": "markdown",
   "metadata": {},
   "source": [
    "<b>Lists</b>\n",
    "It is hytrogenous as list supports to keep different type of data in a list.... <br>\n"
   ]
  },
  {
   "cell_type": "code",
   "execution_count": null,
   "metadata": {},
   "outputs": [],
   "source": []
  },
  {
   "cell_type": "markdown",
   "metadata": {},
   "source": [
    "<b> Tuple</b>"
   ]
  },
  {
   "cell_type": "code",
   "execution_count": null,
   "metadata": {},
   "outputs": [],
   "source": []
  },
  {
   "cell_type": "markdown",
   "metadata": {},
   "source": [
    "<b>Indexing</b>\n",
    "Left to right indexing starts from 0 to onward and right to left indexing start from -1 to onward..."
   ]
  },
  {
   "cell_type": "code",
   "execution_count": null,
   "metadata": {},
   "outputs": [],
   "source": []
  },
  {
   "cell_type": "markdown",
   "metadata": {},
   "source": [
    "<b> Sets </b> Same as methimatical sets (Indexing does not support) "
   ]
  },
  {
   "cell_type": "code",
   "execution_count": null,
   "metadata": {},
   "outputs": [],
   "source": []
  },
  {
   "cell_type": "markdown",
   "metadata": {},
   "source": [
    "<b> Dectionary</b> It is defined as <br> dectionary = {<br>    <i>Key</i>:<i>Value</i>     <br>} <br><b>Key should be unique</b>"
   ]
  },
  {
   "cell_type": "code",
   "execution_count": null,
   "metadata": {},
   "outputs": [],
   "source": []
  },
  {
   "cell_type": "markdown",
   "metadata": {},
   "source": [
    "<h4> Concatination </h4><br>"
   ]
  },
  {
   "cell_type": "code",
   "execution_count": 55,
   "metadata": {},
   "outputs": [
    {
     "name": "stdout",
     "output_type": "stream",
     "text": [
      "\n",
      "    Name    : Monis Ali\n",
      "    Reg     : 16-CP-45\n",
      "    Program : PIAIC\n",
      "\n"
     ]
    }
   ],
   "source": [
    "# Multiline string\n",
    "card = \"\"\"\n",
    "    Name    : Monis Ali\n",
    "    Reg     : 16-CP-45\n",
    "    Program : PIAIC\n",
    "\"\"\"\n",
    "print(card)"
   ]
  },
  {
   "cell_type": "code",
   "execution_count": 57,
   "metadata": {},
   "outputs": [
    {
     "name": "stdout",
     "output_type": "stream",
     "text": [
      "\n",
      "    Name : Monis Ali\n",
      "    Reg : 16-CP-45\n",
      "    Program : PIAIC\n",
      "\n"
     ]
    }
   ],
   "source": [
    "cards = \"\"\"\n",
    "    Name : %s\n",
    "    Reg : %s\n",
    "    Program : %s\n",
    "\"\"\"\n",
    "name = \"Monis Ali\"\n",
    "reg = \"16-CP-45\"\n",
    "program = \"PIAIC\"\n",
    "\n",
    "print(cards%(name,reg,program))"
   ]
  },
  {
   "cell_type": "code",
   "execution_count": 61,
   "metadata": {},
   "outputs": [
    {
     "name": "stdout",
     "output_type": "stream",
     "text": [
      "\n",
      "    Name : Monis Ali Qureshi\n",
      "    Reg : 16-CP-45\n",
      "    Program : PIAIC\n",
      "\n"
     ]
    }
   ],
   "source": [
    "name = \"Monis Ali Qureshi\"\n",
    "reg = \"16-CP-45\"\n",
    "program = \"PIAIC\"\n",
    "\n",
    "cards = f\"\"\"\n",
    "    Name : {name}\n",
    "    Reg : {reg}\n",
    "    Program : {program}\n",
    "\"\"\"\n",
    "\n",
    "print(cards)"
   ]
  },
  {
   "cell_type": "code",
   "execution_count": 70,
   "metadata": {},
   "outputs": [
    {
     "name": "stdout",
     "output_type": "stream",
     "text": [
      "\n",
      "    Name : Monis Ali Qureshi\n",
      "    Reg : 16-CP-45\n",
      "    Program : PIAIC\n",
      "\n"
     ]
    }
   ],
   "source": [
    "name = \"Monis Ali Qureshi\"\n",
    "reg = \"16-CP-45\"\n",
    "program = \"PIAIC\"\n",
    "\n",
    "cards = \"\"\"\n",
    "    Name : {}\n",
    "    Reg : {}\n",
    "    Program : {}\n",
    "\"\"\"\n",
    "\n",
    "print(cards.format(name,reg,program))"
   ]
  },
  {
   "cell_type": "code",
   "execution_count": 72,
   "metadata": {},
   "outputs": [
    {
     "name": "stdout",
     "output_type": "stream",
     "text": [
      "\n",
      "    Name : Monis Ali Qureshi\n",
      "    Reg : 16-CP-45\n",
      "    Program : PIAIC\n",
      "\n"
     ]
    }
   ],
   "source": [
    "name = \"Monis Ali Qureshi\"\n",
    "reg = \"16-CP-45\"\n",
    "program = \"PIAIC\"\n",
    "\n",
    "cards = \"\"\"\n",
    "    Name : {a}\n",
    "    Reg : {b}\n",
    "    Program : {c}\n",
    "\"\"\"\n",
    "\n",
    "print(cards.format(a=name,b=reg,c=program))"
   ]
  },
  {
   "cell_type": "code",
   "execution_count": 82,
   "metadata": {},
   "outputs": [
    {
     "name": "stdout",
     "output_type": "stream",
     "text": [
      "Name : Monis Ali Qureshi\n",
      "Reg : 16-CP-45\n",
      "Program : PIAIC\n"
     ]
    }
   ],
   "source": [
    "name = \"Monis Ali Qureshi\"\n",
    "reg = \"16-CP-45\"\n",
    "program = \"PIAIC\"\n",
    "\n",
    "print(\"Name : \" + name + \"\\nReg : \" + reg + \"\\nProgram : \" + program)"
   ]
  }
 ],
 "metadata": {
  "kernelspec": {
   "display_name": "Python 3",
   "language": "python",
   "name": "python3"
  },
  "language_info": {
   "codemirror_mode": {
    "name": "ipython",
    "version": 3
   },
   "file_extension": ".py",
   "mimetype": "text/x-python",
   "name": "python",
   "nbconvert_exporter": "python",
   "pygments_lexer": "ipython3",
   "version": "3.6.8"
  }
 },
 "nbformat": 4,
 "nbformat_minor": 2
}
