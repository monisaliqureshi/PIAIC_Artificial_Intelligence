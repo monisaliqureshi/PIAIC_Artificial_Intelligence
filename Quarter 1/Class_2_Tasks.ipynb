{
 "cells": [
  {
   "cell_type": "markdown",
   "metadata": {},
   "source": [
    "<h1 align='center'> Functions/Methods that can be applied to String Data Type</h1>"
   ]
  },
  {
   "cell_type": "code",
   "execution_count": 1,
   "metadata": {},
   "outputs": [
    {
     "name": "stdout",
     "output_type": "stream",
     "text": [
      "Monis ali\n"
     ]
    }
   ],
   "source": [
    "a = \"MoNiS ALi\"\n",
    "\n",
    "print(a.capitalize())                   # used for apply capitalize the string as first character will be Capital.."
   ]
  },
  {
   "cell_type": "code",
   "execution_count": 2,
   "metadata": {},
   "outputs": [
    {
     "name": "stdout",
     "output_type": "stream",
     "text": [
      "monis ali\n"
     ]
    }
   ],
   "source": [
    "print(a.casefold())                    # Reset in lower case character"
   ]
  },
  {
   "cell_type": "code",
   "execution_count": 3,
   "metadata": {},
   "outputs": [
    {
     "name": "stdout",
     "output_type": "stream",
     "text": [
      "     MoNiS ALi      \n"
     ]
    }
   ],
   "source": [
    "print(a.center(20))                   # Padding spaces half before and half after text"
   ]
  },
  {
   "cell_type": "code",
   "execution_count": 4,
   "metadata": {},
   "outputs": [
    {
     "name": "stdout",
     "output_type": "stream",
     "text": [
      "2\n"
     ]
    }
   ],
   "source": [
    "print(a.count('i'))                   # Count any spacific character in string"
   ]
  },
  {
   "cell_type": "code",
   "execution_count": 5,
   "metadata": {},
   "outputs": [
    {
     "name": "stdout",
     "output_type": "stream",
     "text": [
      "b'MoNiS ALi'\n"
     ]
    }
   ],
   "source": [
    "print(a.encode())                    # Return encoded version of string"
   ]
  },
  {
   "cell_type": "code",
   "execution_count": 6,
   "metadata": {},
   "outputs": [
    {
     "name": "stdout",
     "output_type": "stream",
     "text": [
      "True\n"
     ]
    }
   ],
   "source": [
    "print(a.endswith('i'))              # True if string end at particular character"
   ]
  },
  {
   "cell_type": "code",
   "execution_count": 7,
   "metadata": {},
   "outputs": [
    {
     "name": "stdout",
     "output_type": "stream",
     "text": [
      "MoNiS ALi\n"
     ]
    }
   ],
   "source": [
    "print(a.expandtabs(20))            # Set the tab size of string"
   ]
  },
  {
   "cell_type": "code",
   "execution_count": 9,
   "metadata": {},
   "outputs": [
    {
     "name": "stdout",
     "output_type": "stream",
     "text": [
      "3\n"
     ]
    }
   ],
   "source": [
    "print(a.find('i'))                 # Return the position of particular"
   ]
  },
  {
   "cell_type": "markdown",
   "metadata": {},
   "source": [
    "Format() is used for nicer output of string"
   ]
  },
  {
   "cell_type": "code",
   "execution_count": 13,
   "metadata": {},
   "outputs": [
    {
     "name": "stdout",
     "output_type": "stream",
     "text": [
      "Hello Monis, your reg no. is : 45.\n",
      "Hello Monis, your reg no. is : 45.\n",
      "Hello Monis, your reg no. is : 45.\n",
      "Hello Monis, your reg no. is : 45.\n"
     ]
    }
   ],
   "source": [
    "# default arguments\n",
    "print('Hello {}, your reg no. is : {}.'.format('Monis', 45))\n",
    "\n",
    "# positional arguments\n",
    "print('Hello {0}, your reg no. is : {1}.'.format('Monis', 45))\n",
    "\n",
    "# keyword arguments\n",
    "print('Hello {name}, your reg no. is : {reg}.'.format(name='Monis', reg=45))\n",
    "\n",
    "# mixed arguments\n",
    "print('Hello {0}, your reg no. is : {reg}.'.format('Monis', reg = 45))"
   ]
  },
  {
   "cell_type": "code",
   "execution_count": 20,
   "metadata": {},
   "outputs": [
    {
     "name": "stdout",
     "output_type": "stream",
     "text": [
      "PIAIC Islamabad\n",
      "Student Name : Monis Ali \n",
      "Course : Artificial Intelligence \n",
      "Batch : 3 \n",
      "Class Timing : Sunday from 12:15 PM - 03:15 PM\n"
     ]
    }
   ],
   "source": [
    "# .format_map(dictionary) is used to format from dictionary\n",
    "point = {\n",
    "    'Program':'PIAIC',\n",
    "    'Location':'Islamabad',\n",
    "}\n",
    "print('{Program} {Location}'.format_map(point))\n",
    "\n",
    "point = {\n",
    "    'StdName':'Monis Ali',\n",
    "    'Course':'Artificial Intelligence', \n",
    "    'Batch': '3',\n",
    "    'ClsTiming':'Sunday from 12:15 PM - 03:15 PM'\n",
    "}\n",
    "print('Student Name : {StdName} \\nCourse : {Course} \\nBatch : {Batch} \\nClass Timing : {ClsTiming}'.format_map(point))"
   ]
  },
  {
   "cell_type": "code",
   "execution_count": 29,
   "metadata": {},
   "outputs": [
    {
     "name": "stdout",
     "output_type": "stream",
     "text": [
      "Substring 'Islamabad' : 20\n",
      "Substring 'Monis' is : 5\n"
     ]
    }
   ],
   "source": [
    "# Returns Index of Substring\n",
    "sentence = 'I am Monis Ali from Islamabad.'\n",
    "\n",
    "result = sentence.index('Islamabad')\n",
    "print(\"Substring 'Islamabad' :\", result)\n",
    "\n",
    "result = sentence.index('Monis')\n",
    "print(\"Substring 'Monis' is :\", result)"
   ]
  },
  {
   "cell_type": "code",
   "execution_count": 33,
   "metadata": {},
   "outputs": [
    {
     "name": "stdout",
     "output_type": "stream",
     "text": [
      "True\n",
      "False\n",
      "True\n",
      "True\n"
     ]
    }
   ],
   "source": [
    "# .isalnum() is used to check alphanumeric character in a string\n",
    "name = \"Monis123\"\n",
    "print(name.isalnum())\n",
    "\n",
    "# contains whitespace\n",
    "name = \"Monis12 Ali \"\n",
    "print(name.isalnum())\n",
    "\n",
    "name = \"Monis123Ali\"\n",
    "print(name.isalnum())\n",
    "\n",
    "name = \"123\"\n",
    "print(name.isalnum())"
   ]
  },
  {
   "cell_type": "code",
   "execution_count": 36,
   "metadata": {},
   "outputs": [
    {
     "name": "stdout",
     "output_type": "stream",
     "text": [
      "True\n",
      "False\n",
      "False\n",
      "False\n"
     ]
    }
   ],
   "source": [
    "# Checks if All Characters are Alphabets\n",
    "name = \"Monis\"\n",
    "print(name.isalpha())\n",
    "\n",
    "# contains whitespace\n",
    "name = \"Monis12 Ali \"\n",
    "print(name.isalpha())\n",
    "\n",
    "name = \"Monis123Ali\"\n",
    "print(name.isalpha())\n",
    "\n",
    "name = \"123\"\n",
    "print(name.isalpha())"
   ]
  },
  {
   "cell_type": "code",
   "execution_count": 41,
   "metadata": {},
   "outputs": [
    {
     "name": "stdout",
     "output_type": "stream",
     "text": [
      "True\n",
      "False\n",
      "False\n"
     ]
    }
   ],
   "source": [
    "# Check decimal characters\n",
    "\n",
    "s = \"28212\"\n",
    "print(s.isdecimal())\n",
    "\n",
    "# contains alphabets\n",
    "s = \"32ladk3\"\n",
    "print(s.isdecimal())\n",
    "\n",
    "# contains alphabets and spaces\n",
    "s = \"Mo3 nicaG el l22er\"\n",
    "print(s.isdecimal())"
   ]
  },
  {
   "cell_type": "code",
   "execution_count": 39,
   "metadata": {},
   "outputs": [
    {
     "name": "stdout",
     "output_type": "stream",
     "text": [
      "True\n",
      "False\n"
     ]
    }
   ],
   "source": [
    "# Check digit character\n",
    "\n",
    "s = \"28212\"\n",
    "print(s.isdigit())\n",
    "\n",
    "# contains alphabets and spaces\n",
    "s = \"Mo3 nicaG el l22er\"\n",
    "print(s.isdigit())"
   ]
  },
  {
   "cell_type": "code",
   "execution_count": 42,
   "metadata": {},
   "outputs": [
    {
     "name": "stdout",
     "output_type": "stream",
     "text": [
      "True\n",
      "False\n",
      "False\n",
      "False\n"
     ]
    }
   ],
   "source": [
    "# Checks for Valid Identifier\n",
    "str = 'Python'\n",
    "print(str.isidentifier())\n",
    "\n",
    "str = 'Py thon'\n",
    "print(str.isidentifier())\n",
    "\n",
    "str = '22Python'\n",
    "print(str.isidentifier())\n",
    "\n",
    "str = ''\n",
    "print(str.isidentifier())"
   ]
  },
  {
   "cell_type": "code",
   "execution_count": 44,
   "metadata": {},
   "outputs": [
    {
     "name": "stdout",
     "output_type": "stream",
     "text": [
      "True\n",
      "True\n",
      "False\n"
     ]
    }
   ],
   "source": [
    "# Checks if all Alphabets in a String are Lowercase\n",
    "s = 'this is good'\n",
    "print(s.islower())\n",
    "\n",
    "s = 'th!s is a1so g00d'\n",
    "print(s.islower())\n",
    "\n",
    "s = 'this is Not good'\n",
    "print(s.islower())"
   ]
  },
  {
   "cell_type": "code",
   "execution_count": 46,
   "metadata": {},
   "outputs": [
    {
     "name": "stdout",
     "output_type": "stream",
     "text": [
      "True\n",
      "True\n",
      "True\n",
      "False\n"
     ]
    }
   ],
   "source": [
    "# Checks Numeric Characters\n",
    "s = '1242323'\n",
    "print(s.isnumeric())\n",
    "#s = '²3455'\n",
    "s = '\\u00B23455'\n",
    "print(s.isnumeric())\n",
    "# s = '½'\n",
    "s = '\\u00BD'\n",
    "print(s.isnumeric())\n",
    "s = '1242323'\n",
    "s='python12'\n",
    "print(s.isnumeric())"
   ]
  },
  {
   "cell_type": "code",
   "execution_count": 48,
   "metadata": {},
   "outputs": [
    {
     "name": "stdout",
     "output_type": "stream",
     "text": [
      "Space is a printable\n",
      "True\n",
      "\n",
      "New Line is printable\n",
      "False\n",
      "\n",
      "Empty string printable? True\n"
     ]
    }
   ],
   "source": [
    "# Checks Printable Character\n",
    "s = 'Space is a printable'\n",
    "print(s)\n",
    "print(s.isprintable())\n",
    "\n",
    "s = '\\nNew Line is printable'\n",
    "print(s)\n",
    "print(s.isprintable())\n",
    "\n",
    "s = ''\n",
    "print('\\nEmpty string printable?', s.isprintable())"
   ]
  },
  {
   "cell_type": "code",
   "execution_count": 51,
   "metadata": {},
   "outputs": [
    {
     "name": "stdout",
     "output_type": "stream",
     "text": [
      "True\n",
      "False\n",
      "False\n"
     ]
    }
   ],
   "source": [
    "# Check whitespaces string\n",
    "s = '   \\t'\n",
    "print(s.isspace())\n",
    "\n",
    "s = ' a '\n",
    "print(s.isspace())\n",
    "\n",
    "s = ''\n",
    "print(s.isspace())"
   ]
  },
  {
   "cell_type": "code",
   "execution_count": 52,
   "metadata": {},
   "outputs": [
    {
     "name": "stdout",
     "output_type": "stream",
     "text": [
      "True\n",
      "False\n",
      "True\n",
      "True\n",
      "False\n"
     ]
    }
   ],
   "source": [
    "# Checks for Titlecased String\n",
    "s = 'Python Is Good.'\n",
    "print(s.istitle())\n",
    "\n",
    "s = 'Python is good'\n",
    "print(s.istitle())\n",
    "\n",
    "s = 'This Is @ Symbol.'\n",
    "print(s.istitle())\n",
    "\n",
    "s = '99 Is A Number'\n",
    "print(s.istitle())\n",
    "\n",
    "s = 'PYTHON'\n",
    "print(s.istitle())"
   ]
  },
  {
   "cell_type": "code",
   "execution_count": 53,
   "metadata": {},
   "outputs": [
    {
     "name": "stdout",
     "output_type": "stream",
     "text": [
      "True\n",
      "True\n",
      "False\n"
     ]
    }
   ],
   "source": [
    "# returns if all characters are uppercase characters\n",
    "# example string\n",
    "string = \"THIS IS GOOD!\"\n",
    "print(string.isupper());\n",
    "\n",
    "# numbers in place of alphabets\n",
    "string = \"THIS IS ALSO G00D!\"\n",
    "print(string.isupper());\n",
    "\n",
    "# lowercase string\n",
    "string = \"THIS IS not GOOD!\"\n",
    "print(string.isupper());"
   ]
  },
  {
   "cell_type": "code",
   "execution_count": 55,
   "metadata": {},
   "outputs": [
    {
     "name": "stdout",
     "output_type": "stream",
     "text": [
      "1, 2, 3, 4\n",
      "1, 2, 3, 4\n",
      "s1.join(s2): 1abc2abc3\n",
      "s2.join(s1): a123b123c\n"
     ]
    }
   ],
   "source": [
    "# Returns a Concatenated String\n",
    "numList = ['1', '2', '3', '4']\n",
    "seperator = ', '\n",
    "print(seperator.join(numList))\n",
    "\n",
    "numTuple = ('1', '2', '3', '4')\n",
    "print(seperator.join(numTuple))\n",
    "\n",
    "s1 = 'abc'\n",
    "s2 = '123'\n",
    "\n",
    "# Each character of s2 is concatenated to the front of s1 \n",
    "print('s1.join(s2):', s1.join(s2))\n",
    "\n",
    "#Each character of s1 is concatenated to the front of s2\n",
    "print('s2.join(s1):', s2.join(s1))"
   ]
  },
  {
   "cell_type": "code",
   "execution_count": 56,
   "metadata": {},
   "outputs": [
    {
     "name": "stdout",
     "output_type": "stream",
     "text": [
      "cat  \n"
     ]
    }
   ],
   "source": [
    "# returns left-justified string of given width\n",
    "string = 'cat'\n",
    "width = 5\n",
    "\n",
    "# print left justified string\n",
    "print(string.ljust(width))"
   ]
  },
  {
   "cell_type": "code",
   "execution_count": 57,
   "metadata": {},
   "outputs": [
    {
     "name": "stdout",
     "output_type": "stream",
     "text": [
      "  cat\n"
     ]
    }
   ],
   "source": [
    "# returns right-justified string of given width\n",
    "string = 'cat'\n",
    "width = 5\n",
    "\n",
    "# print right justified string\n",
    "print(string.rjust(width))"
   ]
  },
  {
   "cell_type": "code",
   "execution_count": 58,
   "metadata": {},
   "outputs": [
    {
     "name": "stdout",
     "output_type": "stream",
     "text": [
      "this should be lowercase!\n",
      "th!s sh0uld b3 l0w3rcas3!\n"
     ]
    }
   ],
   "source": [
    "# returns lowercased string\n",
    "string = \"THIS SHOULD BE LOWERCASE!\"\n",
    "print(string.lower())\n",
    "\n",
    "# string with numbers\n",
    "# all alphabets whould be lowercase\n",
    "string = \"Th!s Sh0uLd B3 L0w3rCas3!\"\n",
    "print(string.lower())"
   ]
  },
  {
   "cell_type": "code",
   "execution_count": 59,
   "metadata": {},
   "outputs": [
    {
     "name": "stdout",
     "output_type": "stream",
     "text": [
      "THIS SHOULD BE UPPERCASE!\n",
      "TH!S SH0ULD B3 UPP3RCAS3!\n"
     ]
    }
   ],
   "source": [
    "# returns uppercased string\n",
    "string = \"this should be uppercase!\"\n",
    "print(string.upper())\n",
    "\n",
    "# string with numbers\n",
    "# all alphabets whould be lowercase\n",
    "string = \"Th!s Sh0uLd B3 uPp3rCas3!\"\n",
    "print(string.upper())"
   ]
  },
  {
   "cell_type": "code",
   "execution_count": 61,
   "metadata": {},
   "outputs": [
    {
     "name": "stdout",
     "output_type": "stream",
     "text": [
      "this should all be lowercase.\n",
      "THIS SHOULD ALL BE UPPERCASE.\n",
      "tHiS sHoUlD bE mIxEd CaSeD.\n"
     ]
    }
   ],
   "source": [
    "# swap uppercase characters to lowercase; vice versa\n",
    "# example string\n",
    "string = \"THIS SHOULD ALL BE LOWERCASE.\"\n",
    "print(string.swapcase())\n",
    "\n",
    "string = \"this should all be uppercase.\"\n",
    "print(string.swapcase())\n",
    "\n",
    "string = \"ThIs ShOuLd Be MiXeD cAsEd.\"\n",
    "print(string.swapcase())"
   ]
  },
  {
   "cell_type": "code",
   "execution_count": 62,
   "metadata": {},
   "outputs": [
    {
     "name": "stdout",
     "output_type": "stream",
     "text": [
      "this is good \n",
      "   this is good \n",
      "his is good \n",
      "www.programiz.com/\n"
     ]
    }
   ],
   "source": [
    "# Removes Leading Characters\n",
    "random_string = '   this is good '\n",
    "\n",
    "# Leading whitepsace are removed\n",
    "print(random_string.lstrip())\n",
    "\n",
    "# Argument doesn't contain space\n",
    "# No characters are removed.\n",
    "print(random_string.lstrip('sti'))\n",
    "\n",
    "print(random_string.lstrip('s ti'))\n",
    "\n",
    "website = 'https://www.programiz.com/'\n",
    "print(website.lstrip('htps:/.'))"
   ]
  },
  {
   "cell_type": "code",
   "execution_count": 63,
   "metadata": {},
   "outputs": [
    {
     "name": "stdout",
     "output_type": "stream",
     "text": [
      " this is good\n",
      " this is good\n",
      " this is g\n",
      "www.programiz.co\n"
     ]
    }
   ],
   "source": [
    "# Removes Trailing Characters\n",
    "\n",
    "random_string = ' this is good'\n",
    "\n",
    "# Leading whitepsace are removed\n",
    "print(random_string.rstrip())\n",
    "\n",
    "# Argument doesn't contain 'd'\n",
    "# No characters are removed.\n",
    "print(random_string.rstrip('si oo'))\n",
    "\n",
    "print(random_string.rstrip('sid oo'))\n",
    "\n",
    "website = 'www.programiz.com/'\n",
    "print(website.rstrip('m/.'))"
   ]
  },
  {
   "cell_type": "code",
   "execution_count": 64,
   "metadata": {},
   "outputs": [
    {
     "name": "stdout",
     "output_type": "stream",
     "text": [
      "xoxo love xoxo\n",
      "lov\n",
      " xoxo love xoxo   \n",
      "droid is awesome\n"
     ]
    }
   ],
   "source": [
    "# Removes Both Leading and Trailing Characters\n",
    "string = ' xoxo love xoxo   '\n",
    "\n",
    "# Leading whitepsace are removed\n",
    "print(string.strip())\n",
    "\n",
    "print(string.strip(' xoxoe'))\n",
    "\n",
    "# Argument doesn't contain space\n",
    "# No characters are removed.\n",
    "print(string.strip('sti'))\n",
    "\n",
    "string = 'android is awesome'\n",
    "print(string.strip('an'))"
   ]
  },
  {
   "cell_type": "code",
   "execution_count": 65,
   "metadata": {},
   "outputs": [
    {
     "name": "stdout",
     "output_type": "stream",
     "text": [
      "('Python ', 'is ', 'fun')\n",
      "('Python is fun', '', '')\n",
      "('Python ', 'is', \" fun, isn't it\")\n"
     ]
    }
   ],
   "source": [
    "# Returns a Tuple\n",
    "string = \"Python is fun\"\n",
    "\n",
    "# 'is' separator is found\n",
    "print(string.partition('is '))\n",
    "\n",
    "# 'not' separator is not found\n",
    "print(string.partition('not '))\n",
    "\n",
    "string = \"Python is fun, isn't it\"\n",
    "\n",
    "# splits at first occurence of 'is'\n",
    "print(string.partition('is'))"
   ]
  },
  {
   "cell_type": "code",
   "execution_count": 74,
   "metadata": {},
   "outputs": [
    {
     "name": "stdout",
     "output_type": "stream",
     "text": [
      "{97: '123', 98: '456', 99: '789'}\n",
      "{97: '123', 98: '456', 99: '789'}\n"
     ]
    }
   ],
   "source": [
    "# returns a translation table\n",
    "\n",
    "dict = {\"a\": \"123\", \n",
    "        \"b\": \"456\", \n",
    "        \"c\": \"789\",\n",
    "}\n",
    "string = \"abc\"\n",
    "print(string.maketrans(dict))\n",
    "\n",
    "# example dictionary\n",
    "dict1 = {97: \"123\",\n",
    "         98: \"456\", \n",
    "         99: \"789\",\n",
    "}\n",
    "string1 = \"abc\"\n",
    "print(string1.maketrans(dict1))"
   ]
  },
  {
   "cell_type": "code",
   "execution_count": 75,
   "metadata": {},
   "outputs": [
    {
     "name": "stdout",
     "output_type": "stream",
     "text": [
      "('Python ', 'is ', 'fun')\n",
      "('', '', 'Python is fun')\n",
      "('Python is fun, ', 'is', \"n't it\")\n"
     ]
    }
   ],
   "source": [
    "# return a tuple\n",
    "string = \"Python is fun\"\n",
    "\n",
    "# 'is' separator is found\n",
    "print(string.rpartition('is '))\n",
    "\n",
    "# 'not' separator is not found\n",
    "print(string.rpartition('not '))\n",
    "\n",
    "string = \"Python is fun, isn't it\"\n",
    "\n",
    "# splits at last occurence of 'is'\n",
    "print(string.rpartition('is'))"
   ]
  },
  {
   "cell_type": "code",
   "execution_count": 77,
   "metadata": {},
   "outputs": [
    {
     "name": "stdout",
     "output_type": "stream",
     "text": [
      "Original string: abcdef\n",
      "{97: None, 98: None, 99: 105}\n",
      "Translated string: idef\n"
     ]
    }
   ],
   "source": [
    "# returns mapped charactered string\n",
    "# first string\n",
    "firstString = \"abc\"\n",
    "secondString = \"ghi\"\n",
    "thirdString = \"ab\"\n",
    "\n",
    "string = \"abcdef\"\n",
    "print(\"Original string:\", string)\n",
    "\n",
    "translation = string.maketrans(firstString, secondString, thirdString)\n",
    "print(translation)\n",
    "# translate string\n",
    "print(\"Translated string:\", string.translate(translation))"
   ]
  },
  {
   "cell_type": "code",
   "execution_count": null,
   "metadata": {},
   "outputs": [],
   "source": []
  }
 ],
 "metadata": {
  "kernelspec": {
   "display_name": "Python 3",
   "language": "python",
   "name": "python3"
  },
  "language_info": {
   "codemirror_mode": {
    "name": "ipython",
    "version": 3
   },
   "file_extension": ".py",
   "mimetype": "text/x-python",
   "name": "python",
   "nbconvert_exporter": "python",
   "pygments_lexer": "ipython3",
   "version": "3.6.8"
  }
 },
 "nbformat": 4,
 "nbformat_minor": 2
}
