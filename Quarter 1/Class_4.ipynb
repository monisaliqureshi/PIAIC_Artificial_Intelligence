{
 "cells": [
  {
   "cell_type": "markdown",
   "metadata": {},
   "source": [
    "<h1 align='center' style=\"color:blue\">PIAIC Class-04</h1>\n",
    "<br><br><br>\n",
    "<h3 align='center'>Inroduction to Python</h3>\n",
    "<br><br><br>\n",
    "<h4>Date: 08-12-2019</h4>\n",
    "<h4>Class Time : 12:15 PM </h4>"
   ]
  },
  {
   "cell_type": "markdown",
   "metadata": {},
   "source": [
    "## List_Tuple_Loop"
   ]
  },
  {
   "cell_type": "markdown",
   "metadata": {},
   "source": [
    "### List\n",
    "\n",
    "Hytrogenous ---> Different data type can be stored in list."
   ]
  },
  {
   "cell_type": "code",
   "execution_count": 4,
   "metadata": {},
   "outputs": [
    {
     "name": "stdout",
     "output_type": "stream",
     "text": [
      "['A', 'B', 'C']\n",
      "C\n",
      "C\n"
     ]
    }
   ],
   "source": [
    "names = [\"A\",\"B\",\"C\"]\n",
    "print(names)\n",
    "print(names[2])\n",
    "print(names[-1])"
   ]
  },
  {
   "cell_type": "code",
   "execution_count": 5,
   "metadata": {},
   "outputs": [
    {
     "data": {
      "text/plain": [
       "['__add__',\n",
       " '__class__',\n",
       " '__contains__',\n",
       " '__delattr__',\n",
       " '__delitem__',\n",
       " '__dir__',\n",
       " '__doc__',\n",
       " '__eq__',\n",
       " '__format__',\n",
       " '__ge__',\n",
       " '__getattribute__',\n",
       " '__getitem__',\n",
       " '__gt__',\n",
       " '__hash__',\n",
       " '__iadd__',\n",
       " '__imul__',\n",
       " '__init__',\n",
       " '__init_subclass__',\n",
       " '__iter__',\n",
       " '__le__',\n",
       " '__len__',\n",
       " '__lt__',\n",
       " '__mul__',\n",
       " '__ne__',\n",
       " '__new__',\n",
       " '__reduce__',\n",
       " '__reduce_ex__',\n",
       " '__repr__',\n",
       " '__reversed__',\n",
       " '__rmul__',\n",
       " '__setattr__',\n",
       " '__setitem__',\n",
       " '__sizeof__',\n",
       " '__str__',\n",
       " '__subclasshook__',\n",
       " 'append',\n",
       " 'clear',\n",
       " 'copy',\n",
       " 'count',\n",
       " 'extend',\n",
       " 'index',\n",
       " 'insert',\n",
       " 'pop',\n",
       " 'remove',\n",
       " 'reverse',\n",
       " 'sort']"
      ]
     },
     "execution_count": 5,
     "metadata": {},
     "output_type": "execute_result"
    }
   ],
   "source": [
    "dir(list)"
   ]
  },
  {
   "cell_type": "code",
   "execution_count": 6,
   "metadata": {},
   "outputs": [
    {
     "data": {
      "text/plain": [
       "46"
      ]
     },
     "execution_count": 6,
     "metadata": {},
     "output_type": "execute_result"
    }
   ],
   "source": [
    "len(dir(list))"
   ]
  },
  {
   "cell_type": "code",
   "execution_count": 17,
   "metadata": {},
   "outputs": [
    {
     "name": "stdout",
     "output_type": "stream",
     "text": [
      "['A', 'B', 'C', 3]\n"
     ]
    }
   ],
   "source": [
    "names = []\n",
    "names.append(\"A\")\n",
    "names.append(\"B\")\n",
    "names.append(\"C\")\n",
    "names.append(3)\n",
    "# Output should be A,B,C,3\n",
    "print(names)"
   ]
  },
  {
   "cell_type": "code",
   "execution_count": 9,
   "metadata": {},
   "outputs": [
    {
     "name": "stdout",
     "output_type": "stream",
     "text": [
      "Enter value : Hello\n",
      "['A', 'B', 'C', 3, 'End list', 'Hello']\n"
     ]
    }
   ],
   "source": [
    "# Getting value from user to append\n",
    "\n",
    "a = input(\"Enter value : \")\n",
    "names.append(a)\n",
    "print(names)"
   ]
  },
  {
   "cell_type": "code",
   "execution_count": 10,
   "metadata": {},
   "outputs": [
    {
     "name": "stdout",
     "output_type": "stream",
     "text": [
      "[]\n"
     ]
    }
   ],
   "source": [
    "names.clear()\n",
    "print(names)"
   ]
  },
  {
   "cell_type": "code",
   "execution_count": 16,
   "metadata": {},
   "outputs": [
    {
     "name": "stdout",
     "output_type": "stream",
     "text": [
      "Names :  ['A', 'B', 'C', 3]\n",
      "Names1 :  ['A', 'B', 'C', 3]\n",
      "Names :  ['Pakistan', 'B', 'C', 3]\n",
      "Names1 :  ['Pakistan', 'B', 'C', 3]\n",
      "Names :  ['Pakistan', 'B', 'C', 3]\n",
      "Names1 :  ['Pakistan', 'B', 'C', 3]\n",
      "Names :  ['Pakistan', 'B', 'C', 3]\n",
      "Names1 :  ['Pakistan', 'B', 'C', 3]\n"
     ]
    }
   ],
   "source": [
    "names1 = names               # Address will be same  Shallow copy\n",
    "print(\"Names : \",names)\n",
    "print(\"Names1 : \",names1)\n",
    "names[0] = \"Pakistan\"        # This will copy data into both list...\n",
    "print(\"Names : \",names)\n",
    "print(\"Names1 : \",names1)\n",
    "\n"
   ]
  },
  {
   "cell_type": "code",
   "execution_count": 18,
   "metadata": {},
   "outputs": [
    {
     "name": "stdout",
     "output_type": "stream",
     "text": [
      "Names :  ['A', 'B', 'C', 3]\n",
      "Names1 :  ['A', 'B', 'C', 3]\n",
      "Names :  ['Pakistan', 'B', 'C', 3]\n",
      "Names1 :  ['A', 'B', 'C', 3]\n"
     ]
    }
   ],
   "source": [
    "# Deep copy\n",
    "names1 = names.copy()\n",
    "print(\"Names : \",names)\n",
    "print(\"Names1 : \",names1)\n",
    "names[0] = \"Pakistan\" \n",
    "print(\"Names : \",names)\n",
    "print(\"Names1 : \",names1)"
   ]
  },
  {
   "cell_type": "code",
   "execution_count": 21,
   "metadata": {},
   "outputs": [
    {
     "name": "stdout",
     "output_type": "stream",
     "text": [
      "1\n"
     ]
    }
   ],
   "source": [
    "names = [\"A\",\"B\",\"C\"]\n",
    "print(names.count(\"A\"))"
   ]
  },
  {
   "cell_type": "code",
   "execution_count": 24,
   "metadata": {},
   "outputs": [
    {
     "name": "stdout",
     "output_type": "stream",
     "text": [
      "[1, 2, 3, 4, 5, 6]\n",
      "[1, 2, 3, 4, 5, 6]\n",
      "[4, 5, 6]\n"
     ]
    }
   ],
   "source": [
    "l1 = [1,2,3]\n",
    "l2 = [4,5,6]\n",
    "print(l1+l2)           # In-line Operation\n",
    "\n",
    "l1.extend(l2)          # In memory operation\n",
    "print(l1)\n",
    "print(l2)"
   ]
  },
  {
   "cell_type": "code",
   "execution_count": 27,
   "metadata": {},
   "outputs": [
    {
     "name": "stdout",
     "output_type": "stream",
     "text": [
      "1\n",
      "0\n",
      "3\n"
     ]
    }
   ],
   "source": [
    "l1 = [\"A\",'B',\"C\",'A',\"C\",\"E\",\"A\"]\n",
    "print(l1.index('B'))\n",
    "print(l1.index('A'))\n",
    "\n",
    "print(l1.index(\"A\",1))"
   ]
  },
  {
   "cell_type": "code",
   "execution_count": 28,
   "metadata": {},
   "outputs": [
    {
     "name": "stdout",
     "output_type": "stream",
     "text": [
      "['A', 'B', 'Hello', 'C']\n"
     ]
    }
   ],
   "source": [
    "l1 = ['A',\"B\",\"C\"]\n",
    "l1.insert(2,\"Hello\")\n",
    "print(l1)"
   ]
  },
  {
   "cell_type": "code",
   "execution_count": 1,
   "metadata": {},
   "outputs": [
    {
     "ename": "NameError",
     "evalue": "name 'l1' is not defined",
     "output_type": "error",
     "traceback": [
      "\u001b[1;31m---------------------------------------------------------------------------\u001b[0m",
      "\u001b[1;31mNameError\u001b[0m                                 Traceback (most recent call last)",
      "\u001b[1;32m<ipython-input-1-9a2e3b34945c>\u001b[0m in \u001b[0;36m<module>\u001b[1;34m\u001b[0m\n\u001b[1;32m----> 1\u001b[1;33m \u001b[0ml1\u001b[0m\u001b[1;33m.\u001b[0m\u001b[0mpop\u001b[0m\u001b[1;33m(\u001b[0m\u001b[1;33m)\u001b[0m             \u001b[1;31m# Remove value from last\u001b[0m\u001b[1;33m\u001b[0m\u001b[1;33m\u001b[0m\u001b[0m\n\u001b[0m\u001b[0;32m      2\u001b[0m \u001b[0mprint\u001b[0m\u001b[1;33m(\u001b[0m\u001b[0ml1\u001b[0m\u001b[1;33m)\u001b[0m\u001b[1;33m\u001b[0m\u001b[1;33m\u001b[0m\u001b[0m\n",
      "\u001b[1;31mNameError\u001b[0m: name 'l1' is not defined"
     ]
    }
   ],
   "source": [
    "l1.pop()             # Remove value from last \n",
    "print(l1)"
   ]
  },
  {
   "cell_type": "code",
   "execution_count": 7,
   "metadata": {},
   "outputs": [],
   "source": [
    "# Simple application stack FIFO \n",
    "# Initialize memory\n",
    "disk = []         # For store data (Stack)\n",
    "trash = []        # For store removed data from stack \n",
    "action = int(1)   # Initialize app"
   ]
  },
  {
   "cell_type": "code",
   "execution_count": 8,
   "metadata": {},
   "outputs": [
    {
     "name": "stdout",
     "output_type": "stream",
     "text": [
      "#------------------------------------#\n",
      "Stack Memory FIFO--> First In First Out \n",
      "\n",
      "1. Insert data in Stack\n",
      "2. Delete data from Queue\n",
      "3. Exit\n",
      "1\n",
      "Enter value to insert in Disk : D\n",
      "Disk :  ['D']\n",
      "\n",
      "Trash :  []\n",
      "\n",
      "1. Insert data in Stack\n",
      "2. Delete data from Queue\n",
      "3. Exit\n",
      "1\n",
      "Enter value to insert in Disk : E\n",
      "Disk :  ['D', 'E']\n",
      "\n",
      "Trash :  []\n",
      "\n",
      "1. Insert data in Stack\n",
      "2. Delete data from Queue\n",
      "3. Exit\n",
      "2\n",
      "Disk :  ['E']\n",
      "\n",
      "Trash :  ['D']\n",
      "\n",
      "1. Insert data in Stack\n",
      "2. Delete data from Queue\n",
      "3. Exit\n",
      "3\n",
      "Disk :  ['E']\n",
      "\n",
      "Trash :  ['D']\n",
      "\n",
      "Exited\n"
     ]
    }
   ],
   "source": [
    "# Trash (Stores removed data) Example\n",
    "print(\"#------------------------------------#\")\n",
    "print(\"Stack Memory FIFO--> First In First Out \")\n",
    "while(action==1 or action==2):\n",
    "    action = int(input(\"\\n1. Insert data in Stack\\n2. Delete data from Queue\\n3. Exit\\n\"))\n",
    "    if(action==1):\n",
    "        val = input(\"Enter value to insert in Disk : \")\n",
    "        disk.append(val)\n",
    "    elif(action==2):\n",
    "        a=disk.pop(0)\n",
    "        trash.append(a)\n",
    "    elif(action==3):\n",
    "        inout = 3\n",
    "    print(\"Disk : \",disk)\n",
    "    print(\"\\nTrash : \",trash)\n",
    "\n",
    "print(\"\\nExited\")"
   ]
  },
  {
   "cell_type": "code",
   "execution_count": 4,
   "metadata": {},
   "outputs": [],
   "source": [
    "# Simple application stack FIFO \n",
    "# Initialize memory\n",
    "disk = []         # For store data (Stack)\n",
    "trash = []        # For store removed data from stack \n",
    "action = int(1)   # Initialize app"
   ]
  },
  {
   "cell_type": "code",
   "execution_count": 3,
   "metadata": {},
   "outputs": [
    {
     "name": "stdout",
     "output_type": "stream",
     "text": [
      "#------------------------------------#\n",
      "Stack Memory LIFO--> Last In First Out \n",
      "\n",
      "1. Insert data in Stack\n",
      "2. Pop data from Stack\n",
      "3. Exit\n",
      "1\n",
      "Enter value to insert in Disk : A\n",
      "Disk :  ['A']\n",
      "\n",
      "Trash :  []\n",
      "\n",
      "1. Insert data in Stack\n",
      "2. Pop data from Stack\n",
      "3. Exit\n",
      "1\n",
      "Enter value to insert in Disk : B\n",
      "Disk :  ['A', 'B']\n",
      "\n",
      "Trash :  []\n",
      "\n",
      "1. Insert data in Stack\n",
      "2. Pop data from Stack\n",
      "3. Exit\n",
      "2\n",
      "Disk :  ['B']\n",
      "\n",
      "Trash :  ['A']\n",
      "\n",
      "1. Insert data in Stack\n",
      "2. Pop data from Stack\n",
      "3. Exit\n",
      "3\n",
      "Disk :  ['B']\n",
      "\n",
      "Trash :  ['A']\n",
      "\n",
      "Exited\n"
     ]
    }
   ],
   "source": [
    "# Trash (Stores removed data) Example\n",
    "print(\"#------------------------------------#\")\n",
    "print(\"Stack Memory LIFO--> Last In First Out \")\n",
    "while(action==1 or action==2):\n",
    "    action = int(input(\"\\n1. Insert data in Stack\\n2. Pop data from Stack\\n3. Exit\\n\"))\n",
    "    if(action==1):\n",
    "        val = input(\"Enter value to insert in Disk : \")\n",
    "        disk.append(val)\n",
    "    elif(action==2):\n",
    "        a=disk.pop()\n",
    "        trash.append(a)\n",
    "    elif(action==3):\n",
    "        inout = 3\n",
    "    print(\"Disk : \",disk)\n",
    "    print(\"\\nTrash : \",trash)\n",
    "\n",
    "print(\"\\nExited\")"
   ]
  },
  {
   "cell_type": "code",
   "execution_count": 11,
   "metadata": {},
   "outputs": [
    {
     "name": "stdout",
     "output_type": "stream",
     "text": [
      "Enter value to delete from list : B\n",
      "['A', 'C', 'D']\n"
     ]
    }
   ],
   "source": [
    "# Remove any particular value from list\n",
    "l1 = [\"A\",\"B\",\"C\",\"D\"]\n",
    "c = input(\"Enter value to delete from list : \")\n",
    "a=l1.pop(l1.index(\"B\"))\n",
    "print(l1)"
   ]
  },
  {
   "cell_type": "code",
   "execution_count": 12,
   "metadata": {},
   "outputs": [],
   "source": [
    "# Simple application of memory \n",
    "# Initialize memory\n",
    "disk = []         # For store data (memory)\n",
    "trash = []        # For store removed data from memory \n",
    "action = int(1)   # Initialize app"
   ]
  },
  {
   "cell_type": "code",
   "execution_count": 20,
   "metadata": {},
   "outputs": [
    {
     "name": "stdout",
     "output_type": "stream",
     "text": [
      "#------------------------------------#\n",
      "Stack Memory LIFO--> Last In First Out \n",
      "\n",
      "1. Insert data in Stack\n",
      "2. Remove data from memory\n",
      "3. Clean Disk\n",
      "4. Exit\n",
      "1\n",
      "Enter value to insert in Disk : A\n",
      "Disk :  ['A', 'C', 'A', 'A']\n",
      "\n",
      "Trash :  ['B']\n",
      "\n",
      "1. Insert data in Stack\n",
      "2. Remove data from memory\n",
      "3. Clean Disk\n",
      "4. Exit\n",
      "3\n",
      "Disk :  []\n",
      "\n",
      "Trash :  ['B']\n",
      "\n",
      "1. Insert data in Stack\n",
      "2. Remove data from memory\n",
      "3. Clean Disk\n",
      "4. Exit\n",
      "4\n",
      "Disk :  []\n",
      "\n",
      "Trash :  ['B']\n",
      "\n",
      "Exited\n"
     ]
    }
   ],
   "source": [
    "# Trash (Stores removed data) Example\n",
    "print(\"#------------------------------------#\")\n",
    "print(\"Stack Memory LIFO--> Last In First Out \")\n",
    "while(action==1 or action==2 or action==3):\n",
    "    action = int(input(\"\\n1. Insert data in Stack\\n2. Remove data from memory\\n3. Clean Disk\\n4. Exit\\n\"))\n",
    "    if(action==1):\n",
    "        val = input(\"Enter value to insert in Disk : \")\n",
    "        disk.append(val)\n",
    "    elif(action==2):\n",
    "        val = input(\"\\nEnter Value to remove from memory : \")\n",
    "        a=disk.pop(disk.index(val))\n",
    "        trash.append(a)\n",
    "    elif (action==3):\n",
    "        disk.clear()\n",
    "    elif(action==4):\n",
    "        inout = 4\n",
    "    print(\"Disk : \",disk)\n",
    "    print(\"\\nTrash : \",trash)\n",
    "\n",
    "print(\"\\nExited\")"
   ]
  },
  {
   "cell_type": "code",
   "execution_count": 15,
   "metadata": {},
   "outputs": [
    {
     "name": "stdout",
     "output_type": "stream",
     "text": [
      "['A', 'B', 'C', 'D']\n",
      "['D', 'C', 'B', 'A']\n"
     ]
    }
   ],
   "source": [
    "# Reverse list \n",
    "l1 = [\"A\",\"B\",\"C\",\"D\"]\n",
    "print(l1)\n",
    "l1.reverse()\n",
    "print(l1)"
   ]
  },
  {
   "cell_type": "code",
   "execution_count": 17,
   "metadata": {},
   "outputs": [
    {
     "name": "stdout",
     "output_type": "stream",
     "text": [
      "['B', 'A', 'D', 'C']\n",
      "['A', 'B', 'C', 'D']\n"
     ]
    }
   ],
   "source": [
    "# Sort list (A-->Z) \n",
    "l1 = [\"B\",\"A\",\"D\",\"C\"]\n",
    "print(l1)\n",
    "l1.sort()\n",
    "print(l1)"
   ]
  },
  {
   "cell_type": "code",
   "execution_count": 18,
   "metadata": {},
   "outputs": [
    {
     "name": "stdout",
     "output_type": "stream",
     "text": [
      "['B', 'A', 'D', 'C']\n",
      "['D', 'C', 'B', 'A']\n"
     ]
    }
   ],
   "source": [
    "# Sort list (Z-->A)\n",
    "# Method--1\n",
    "l1 = [\"B\",\"A\",\"D\",\"C\"]\n",
    "print(l1)\n",
    "l1.sort()\n",
    "l1.reverse()\n",
    "print(l1)"
   ]
  },
  {
   "cell_type": "code",
   "execution_count": 19,
   "metadata": {},
   "outputs": [
    {
     "name": "stdout",
     "output_type": "stream",
     "text": [
      "['B', 'A', 'D', 'C']\n",
      "['D', 'C', 'B', 'A']\n"
     ]
    }
   ],
   "source": [
    "# Sort list (Z-->A)\n",
    "# Method--2\n",
    "l1 = [\"B\",\"A\",\"D\",\"C\"]\n",
    "print(l1)\n",
    "l1.sort(reverse=True)\n",
    "print(l1)"
   ]
  },
  {
   "cell_type": "code",
   "execution_count": 21,
   "metadata": {},
   "outputs": [],
   "source": [
    "# Simple application of memory \n",
    "# Initialize memory\n",
    "disk = []         # For store data (memory)\n",
    "trash = []        # For store removed data from memory \n",
    "action = int(1)   # Initialize app"
   ]
  },
  {
   "cell_type": "code",
   "execution_count": 22,
   "metadata": {},
   "outputs": [
    {
     "name": "stdout",
     "output_type": "stream",
     "text": [
      "#------------------------------------#\n",
      "Stack Memory LIFO--> Last In First Out \n",
      "\n",
      "1. Insert data in Stack\n",
      "2. Remove data from memory\n",
      "3. Clean Disk\n",
      "4. Exit\n",
      "1\n",
      "Enter value to insert in Disk : A\n",
      "Disk :  ['A']\n",
      "\n",
      "Trash :  []\n",
      "\n",
      "1. Insert data in Stack\n",
      "2. Remove data from memory\n",
      "3. Clean Disk\n",
      "4. Exit\n",
      "1\n",
      "Enter value to insert in Disk : B\n",
      "Disk :  ['A', 'B']\n",
      "\n",
      "Trash :  []\n",
      "\n",
      "1. Insert data in Stack\n",
      "2. Remove data from memory\n",
      "3. Clean Disk\n",
      "4. Exit\n",
      "1\n",
      "Enter value to insert in Disk : C\n",
      "Disk :  ['A', 'B', 'C']\n",
      "\n",
      "Trash :  []\n",
      "\n",
      "1. Insert data in Stack\n",
      "2. Remove data from memory\n",
      "3. Clean Disk\n",
      "4. Exit\n",
      "3\n",
      "Disk :  []\n",
      "\n",
      "Trash :  []\n",
      "\n",
      "1. Insert data in Stack\n",
      "2. Remove data from memory\n",
      "3. Clean Disk\n",
      "4. Exit\n",
      "4\n",
      "Disk :  []\n",
      "\n",
      "Trash :  []\n",
      "\n",
      "Exited\n"
     ]
    }
   ],
   "source": [
    "# Trash (Stores removed data) Example\n",
    "print(\"#------------------------------------#\")\n",
    "print(\"Stack Memory LIFO--> Last In First Out \")\n",
    "while(action==1 or action==2 or action==3):\n",
    "    action = int(input(\"\\n1. Insert data in Stack\\n2. Remove data from memory\\n3. Clean Disk\\n4. Exit\\n\"))\n",
    "    if(action==1):\n",
    "        val = input(\"Enter value to insert in Disk : \")\n",
    "        disk.append(val)\n",
    "    elif(action==2):\n",
    "        val = input(\"\\nEnter Value to remove from memory : \")\n",
    "        a=disk.pop(disk.index(val))\n",
    "        trash.append(a)\n",
    "    elif (action==3):\n",
    "        disk.clear()\n",
    "    elif(action==4):\n",
    "        inout = 4\n",
    "    print(\"Disk : \",disk)\n",
    "    print(\"\\nTrash : \",trash)\n",
    "\n",
    "print(\"\\nExited\")"
   ]
  },
  {
   "cell_type": "code",
   "execution_count": 23,
   "metadata": {},
   "outputs": [
    {
     "data": {
      "text/plain": [
       "['B', 'A', 'D', 'C', 1, 2, 3]"
      ]
     },
     "execution_count": 23,
     "metadata": {},
     "output_type": "execute_result"
    }
   ],
   "source": [
    "l1 = [\"B\",\"A\",\"D\",\"C\"]\n",
    "l1.__add__([1,2,3])"
   ]
  },
  {
   "cell_type": "code",
   "execution_count": 24,
   "metadata": {},
   "outputs": [
    {
     "data": {
      "text/plain": [
       "list"
      ]
     },
     "execution_count": 24,
     "metadata": {},
     "output_type": "execute_result"
    }
   ],
   "source": [
    "l1.__class__"
   ]
  },
  {
   "cell_type": "code",
   "execution_count": 25,
   "metadata": {},
   "outputs": [
    {
     "data": {
      "text/plain": [
       "True"
      ]
     },
     "execution_count": 25,
     "metadata": {},
     "output_type": "execute_result"
    }
   ],
   "source": [
    "l1.__contains__(\"C\")"
   ]
  },
  {
   "cell_type": "code",
   "execution_count": 26,
   "metadata": {},
   "outputs": [
    {
     "data": {
      "text/plain": [
       "True"
      ]
     },
     "execution_count": 26,
     "metadata": {},
     "output_type": "execute_result"
    }
   ],
   "source": [
    "\"C\" in l1"
   ]
  },
  {
   "cell_type": "code",
   "execution_count": 29,
   "metadata": {},
   "outputs": [
    {
     "name": "stdout",
     "output_type": "stream",
     "text": [
      "['B', 'C']\n"
     ]
    }
   ],
   "source": [
    "l1.__delitem__(1)\n",
    "print(l1)"
   ]
  },
  {
   "cell_type": "code",
   "execution_count": 30,
   "metadata": {},
   "outputs": [
    {
     "data": {
      "text/plain": [
       "\"list() -> new empty list\\nlist(iterable) -> new list initialized from iterable's items\""
      ]
     },
     "execution_count": 30,
     "metadata": {},
     "output_type": "execute_result"
    }
   ],
   "source": [
    "l1.__doc__"
   ]
  },
  {
   "cell_type": "code",
   "execution_count": 37,
   "metadata": {},
   "outputs": [
    {
     "name": "stdout",
     "output_type": "stream",
     "text": [
      "False\n",
      "False\n",
      "True\n",
      "True\n",
      "False\n"
     ]
    }
   ],
   "source": [
    "l1 = [5,8,9]\n",
    "l2 = [3,2,1]\n",
    "l3 = [7,9,10]\n",
    "print(l1.__eq__(l2))\n",
    "print(l1.__eq__(l3))\n",
    "print(l1.__ge__(l2))\n",
    "print(l1.__le__(l3))\n",
    "print(l1.__gt__(l1))"
   ]
  },
  {
   "cell_type": "markdown",
   "metadata": {},
   "source": [
    "### Tuple"
   ]
  },
  {
   "cell_type": "markdown",
   "metadata": {},
   "source": [
    "### Loop (while,for)"
   ]
  },
  {
   "cell_type": "code",
   "execution_count": 38,
   "metadata": {},
   "outputs": [],
   "source": [
    "#Counter       -----> Control the iteration\n",
    "#Logic         -----> Condition to end loop\n",
    "#Increament/Decreament ------> Counter helping veriable"
   ]
  },
  {
   "cell_type": "code",
   "execution_count": 39,
   "metadata": {},
   "outputs": [
    {
     "name": "stdout",
     "output_type": "stream",
     "text": [
      "1\n",
      "2\n",
      "3\n",
      "4\n",
      "5\n",
      "6\n",
      "7\n",
      "8\n",
      "9\n",
      "10\n"
     ]
    }
   ],
   "source": [
    "counter = 1    # Counter\n",
    "while counter<=10:      # Logic\n",
    "    print(counter)\n",
    "    counter +=1         # Increament"
   ]
  },
  {
   "cell_type": "code",
   "execution_count": 41,
   "metadata": {},
   "outputs": [
    {
     "name": "stdout",
     "output_type": "stream",
     "text": [
      "1000\n",
      "999\n",
      "998\n",
      "997\n",
      "996\n",
      "995\n",
      "994\n",
      "993\n",
      "992\n",
      "991\n",
      "990\n"
     ]
    }
   ],
   "source": [
    "counter = 1000    # Counter\n",
    "while counter>=990:      # Logic\n",
    "    print(counter)\n",
    "    counter -=1         # Increament"
   ]
  },
  {
   "cell_type": "code",
   "execution_count": 43,
   "metadata": {},
   "outputs": [
    {
     "data": {
      "text/plain": [
       "[1, 2, 3, 4, 5, 6, 7, 8, 9, 10]"
      ]
     },
     "execution_count": 43,
     "metadata": {},
     "output_type": "execute_result"
    }
   ],
   "source": [
    "list(range(1,11))"
   ]
  },
  {
   "cell_type": "code",
   "execution_count": 44,
   "metadata": {},
   "outputs": [
    {
     "name": "stdout",
     "output_type": "stream",
     "text": [
      "1\n",
      "2\n",
      "3\n",
      "4\n",
      "5\n",
      "6\n",
      "7\n",
      "8\n",
      "9\n",
      "10\n"
     ]
    }
   ],
   "source": [
    "# for (counter;logicl;inreament/Decreament)\n",
    "for i in range(1,11):\n",
    "    print(i)"
   ]
  },
  {
   "cell_type": "code",
   "execution_count": 47,
   "metadata": {},
   "outputs": [
    {
     "data": {
      "text/plain": [
       "[1, 2, 3, 4, 5, 6, 7, 8, 9, 10]"
      ]
     },
     "execution_count": 47,
     "metadata": {},
     "output_type": "execute_result"
    }
   ],
   "source": [
    "[i for i in range(1,11)]      #list comprehensive"
   ]
  },
  {
   "cell_type": "code",
   "execution_count": 48,
   "metadata": {},
   "outputs": [
    {
     "name": "stdout",
     "output_type": "stream",
     "text": [
      "2 x  1  =  2 \n",
      "\n",
      "2 x  2  =  4 \n",
      "\n",
      "2 x  3  =  6 \n",
      "\n",
      "2 x  4  =  8 \n",
      "\n",
      "2 x  5  =  10 \n",
      "\n",
      "2 x  6  =  12 \n",
      "\n",
      "2 x  7  =  14 \n",
      "\n",
      "2 x  8  =  16 \n",
      "\n",
      "2 x  9  =  18 \n",
      "\n",
      "2 x  10  =  20 \n",
      "\n"
     ]
    }
   ],
   "source": [
    "for i in range(1,11):\n",
    "    print(\"2 x \",i,\" = \",2*i,\"\\n\")\n",
    "    "
   ]
  },
  {
   "cell_type": "code",
   "execution_count": 49,
   "metadata": {},
   "outputs": [
    {
     "data": {
      "text/plain": [
       "['2 x 1 = 2',\n",
       " '2 x 2 = 4',\n",
       " '2 x 3 = 6',\n",
       " '2 x 4 = 8',\n",
       " '2 x 5 = 10',\n",
       " '2 x 6 = 12',\n",
       " '2 x 7 = 14',\n",
       " '2 x 8 = 16',\n",
       " '2 x 9 = 18',\n",
       " '2 x 10 = 20']"
      ]
     },
     "execution_count": 49,
     "metadata": {},
     "output_type": "execute_result"
    }
   ],
   "source": [
    "[(\"2 x \"+str(i)+\" = \"+str(i*2)) for i in range(1,11)]"
   ]
  },
  {
   "cell_type": "code",
   "execution_count": 54,
   "metadata": {},
   "outputs": [
    {
     "name": "stdout",
     "output_type": "stream",
     "text": [
      "3\n",
      "\n",
      "Table of :  1 \n",
      "\n",
      "| 1  x  1  =  1 |\n",
      "\n",
      "| 1  x  2  =  2 |\n",
      "\n",
      "| 1  x  3  =  3 |\n",
      "\n",
      "| 1  x  4  =  4 |\n",
      "\n",
      "| 1  x  5  =  5 |\n",
      "\n",
      "| 1  x  6  =  6 |\n",
      "\n",
      "| 1  x  7  =  7 |\n",
      "\n",
      "| 1  x  8  =  8 |\n",
      "\n",
      "| 1  x  9  =  9 |\n",
      "\n",
      "| 1  x  10  =  10 |\n",
      "\n",
      "\n",
      "Table of :  2 \n",
      "\n",
      "| 2  x  1  =  2 |\n",
      "\n",
      "| 2  x  2  =  4 |\n",
      "\n",
      "| 2  x  3  =  6 |\n",
      "\n",
      "| 2  x  4  =  8 |\n",
      "\n",
      "| 2  x  5  =  10 |\n",
      "\n",
      "| 2  x  6  =  12 |\n",
      "\n",
      "| 2  x  7  =  14 |\n",
      "\n",
      "| 2  x  8  =  16 |\n",
      "\n",
      "| 2  x  9  =  18 |\n",
      "\n",
      "| 2  x  10  =  20 |\n",
      "\n",
      "\n",
      "Table of :  3 \n",
      "\n",
      "| 3  x  1  =  3 |\n",
      "\n",
      "| 3  x  2  =  6 |\n",
      "\n",
      "| 3  x  3  =  9 |\n",
      "\n",
      "| 3  x  4  =  12 |\n",
      "\n",
      "| 3  x  5  =  15 |\n",
      "\n",
      "| 3  x  6  =  18 |\n",
      "\n",
      "| 3  x  7  =  21 |\n",
      "\n",
      "| 3  x  8  =  24 |\n",
      "\n",
      "| 3  x  9  =  27 |\n",
      "\n",
      "| 3  x  10  =  30 |\n",
      "\n"
     ]
    }
   ],
   "source": [
    "val = int(input())\n",
    "for vals in range(1,val+1):\n",
    "    print(\"\\nTable of : \",vals,\"\\n\")\n",
    "    for i in range(1,11):\n",
    "        print(\"|\",vals,\" x \",i,\" = \",vals*i,\"|\\n\")"
   ]
  },
  {
   "cell_type": "code",
   "execution_count": 12,
   "metadata": {},
   "outputs": [
    {
     "name": "stdout",
     "output_type": "stream",
     "text": [
      "5\n",
      "\n",
      "\n",
      "|1| x |1| = |1| \t|2| x |1| = |2| \t|3| x |1| = |3| \t|4| x |1| = |4| \t|5| x |1| = |5| \t\n",
      "\n",
      "|1| x |2| = |2| \t|2| x |2| = |4| \t|3| x |2| = |6| \t|4| x |2| = |8| \t|5| x |2| = |10| \t\n",
      "\n",
      "|1| x |3| = |3| \t|2| x |3| = |6| \t|3| x |3| = |9| \t|4| x |3| = |12| \t|5| x |3| = |15| \t\n",
      "\n",
      "|1| x |4| = |4| \t|2| x |4| = |8| \t|3| x |4| = |12| \t|4| x |4| = |16| \t|5| x |4| = |20| \t\n",
      "\n",
      "|1| x |5| = |5| \t|2| x |5| = |10| \t|3| x |5| = |15| \t|4| x |5| = |20| \t|5| x |5| = |25| \t\n",
      "\n",
      "|1| x |6| = |6| \t|2| x |6| = |12| \t|3| x |6| = |18| \t|4| x |6| = |24| \t|5| x |6| = |30| \t\n",
      "\n",
      "|1| x |7| = |7| \t|2| x |7| = |14| \t|3| x |7| = |21| \t|4| x |7| = |28| \t|5| x |7| = |35| \t\n",
      "\n",
      "|1| x |8| = |8| \t|2| x |8| = |16| \t|3| x |8| = |24| \t|4| x |8| = |32| \t|5| x |8| = |40| \t\n",
      "\n",
      "|1| x |9| = |9| \t|2| x |9| = |18| \t|3| x |9| = |27| \t|4| x |9| = |36| \t|5| x |9| = |45| \t\n",
      "\n",
      "|1| x |10| = |10| \t|2| x |10| = |20| \t|3| x |10| = |30| \t|4| x |10| = |40| \t|5| x |10| = |50| \t"
     ]
    }
   ],
   "source": [
    "vals = int(input())\n",
    "for i in range(1,11):\n",
    "    print(\"\\n\")\n",
    "    for vals in range(1,vals+1):\n",
    "        res = \"|\" + str(vals) + \"| x |\" + str(i) + \"| = |\" + str(vals*i) + \"| \"\n",
    "        print(res,end=\"\\t\")"
   ]
  },
  {
   "cell_type": "code",
   "execution_count": null,
   "metadata": {},
   "outputs": [],
   "source": []
  }
 ],
 "metadata": {
  "kernelspec": {
   "display_name": "Python 3",
   "language": "python",
   "name": "python3"
  },
  "language_info": {
   "codemirror_mode": {
    "name": "ipython",
    "version": 3
   },
   "file_extension": ".py",
   "mimetype": "text/x-python",
   "name": "python",
   "nbconvert_exporter": "python",
   "pygments_lexer": "ipython3",
   "version": "3.6.8"
  }
 },
 "nbformat": 4,
 "nbformat_minor": 2
}
